{
 "cells": [
  {
   "cell_type": "code",
   "execution_count": null,
   "id": "c9dddf30-7404-4e7b-807c-c7bcdd92e829",
   "metadata": {},
   "outputs": [],
   "source": [
    "a=input('enter a string:')\n",
    "d={i:a.count(i) for i in a}\n",
    "print(d)\n",
    "k=d.values()\n",
    "print(k)\n",
    "l=set(k)\n",
    "print(l)\n",
    "\n",
    "if len(l)==1:\n",
    "    print(\"mystring\")\n",
    "else:\n",
    "    print(\"not mystring\")\n"
   ]
  },
  {
   "cell_type": "code",
   "execution_count": null,
   "id": "34fab568-fbc1-47b0-bad1-f680198abfc1",
   "metadata": {},
   "outputs": [],
   "source": []
  }
 ],
 "metadata": {
  "kernelspec": {
   "display_name": "Python 3",
   "language": "python",
   "name": "python3"
  },
  "language_info": {
   "codemirror_mode": {
    "name": "ipython",
    "version": 3
   },
   "file_extension": ".py",
   "mimetype": "text/x-python",
   "name": "python",
   "nbconvert_exporter": "python",
   "pygments_lexer": "ipython3",
   "version": "3.8.10"
  }
 },
 "nbformat": 4,
 "nbformat_minor": 5
}
